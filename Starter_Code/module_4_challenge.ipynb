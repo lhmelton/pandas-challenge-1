{
 "cells": [
  {
   "cell_type": "markdown",
   "id": "dc0318d6",
   "metadata": {},
   "source": [
    "## Part 1: Explore the Data\n",
    "\n",
    "Import the data and use Pandas to learn more about the dataset."
   ]
  },
  {
   "cell_type": "code",
   "execution_count": 1,
   "id": "e076f57f",
   "metadata": {},
   "outputs": [
    {
     "data": {
      "text/html": [
       "<div>\n",
       "<style scoped>\n",
       "    .dataframe tbody tr th:only-of-type {\n",
       "        vertical-align: middle;\n",
       "    }\n",
       "\n",
       "    .dataframe tbody tr th {\n",
       "        vertical-align: top;\n",
       "    }\n",
       "\n",
       "    .dataframe thead th {\n",
       "        text-align: right;\n",
       "    }\n",
       "</style>\n",
       "<table border=\"1\" class=\"dataframe\">\n",
       "  <thead>\n",
       "    <tr style=\"text-align: right;\">\n",
       "      <th></th>\n",
       "      <th>first</th>\n",
       "      <th>last</th>\n",
       "      <th>job</th>\n",
       "      <th>phone</th>\n",
       "      <th>email</th>\n",
       "      <th>client_id</th>\n",
       "      <th>order_id</th>\n",
       "      <th>order_date</th>\n",
       "      <th>order_week</th>\n",
       "      <th>order_year</th>\n",
       "      <th>item_id</th>\n",
       "      <th>category</th>\n",
       "      <th>subcategory</th>\n",
       "      <th>unit_price</th>\n",
       "      <th>unit_cost</th>\n",
       "      <th>unit_weight</th>\n",
       "      <th>qty</th>\n",
       "      <th>line_number</th>\n",
       "    </tr>\n",
       "  </thead>\n",
       "  <tbody>\n",
       "    <tr>\n",
       "      <th>0</th>\n",
       "      <td>Donald</td>\n",
       "      <td>Harding</td>\n",
       "      <td>Immunologist</td>\n",
       "      <td>793-904-7725x39308</td>\n",
       "      <td>harding.donald.7185@sullivan.com</td>\n",
       "      <td>58515</td>\n",
       "      <td>8953482</td>\n",
       "      <td>2023-04-28</td>\n",
       "      <td>17</td>\n",
       "      <td>2023</td>\n",
       "      <td>EUD29711-63-6U</td>\n",
       "      <td>decor</td>\n",
       "      <td>wall art</td>\n",
       "      <td>1096.80</td>\n",
       "      <td>762.71</td>\n",
       "      <td>7.50</td>\n",
       "      <td>105</td>\n",
       "      <td>1</td>\n",
       "    </tr>\n",
       "    <tr>\n",
       "      <th>1</th>\n",
       "      <td>Tiffany</td>\n",
       "      <td>Myers</td>\n",
       "      <td>Music therapist</td>\n",
       "      <td>201.442.4543x942</td>\n",
       "      <td>myers.t.6537@ferguson-johnson.net</td>\n",
       "      <td>37609</td>\n",
       "      <td>8069089</td>\n",
       "      <td>2023-05-19</td>\n",
       "      <td>20</td>\n",
       "      <td>2023</td>\n",
       "      <td>XDA18116-89-4A</td>\n",
       "      <td>consumables</td>\n",
       "      <td>pens</td>\n",
       "      <td>24.95</td>\n",
       "      <td>15.09</td>\n",
       "      <td>1.49</td>\n",
       "      <td>21</td>\n",
       "      <td>0</td>\n",
       "    </tr>\n",
       "    <tr>\n",
       "      <th>2</th>\n",
       "      <td>Shannon</td>\n",
       "      <td>Watson</td>\n",
       "      <td>Immunologist</td>\n",
       "      <td>687.737.9424x8503</td>\n",
       "      <td>swatson8146@payne.net</td>\n",
       "      <td>57113</td>\n",
       "      <td>1902144</td>\n",
       "      <td>2023-01-29</td>\n",
       "      <td>4</td>\n",
       "      <td>2023</td>\n",
       "      <td>ABE59463-05-7E</td>\n",
       "      <td>software</td>\n",
       "      <td>project management</td>\n",
       "      <td>13.52</td>\n",
       "      <td>7.86</td>\n",
       "      <td>1.68</td>\n",
       "      <td>39</td>\n",
       "      <td>6</td>\n",
       "    </tr>\n",
       "    <tr>\n",
       "      <th>3</th>\n",
       "      <td>Nathan</td>\n",
       "      <td>Baker</td>\n",
       "      <td>Accounting technician</td>\n",
       "      <td>827-788-8123x012</td>\n",
       "      <td>bakernathan@benson.com</td>\n",
       "      <td>46554</td>\n",
       "      <td>9031802</td>\n",
       "      <td>2023-04-25</td>\n",
       "      <td>17</td>\n",
       "      <td>2023</td>\n",
       "      <td>ZMM00836-65-0C</td>\n",
       "      <td>consumables</td>\n",
       "      <td>pens</td>\n",
       "      <td>36.42</td>\n",
       "      <td>24.85</td>\n",
       "      <td>1.23</td>\n",
       "      <td>29</td>\n",
       "      <td>3</td>\n",
       "    </tr>\n",
       "    <tr>\n",
       "      <th>4</th>\n",
       "      <td>Christina</td>\n",
       "      <td>Schwartz</td>\n",
       "      <td>Chiropractor</td>\n",
       "      <td>265-829-3643</td>\n",
       "      <td>christinaschwartz9252@mcconnell.com</td>\n",
       "      <td>92089</td>\n",
       "      <td>1322274</td>\n",
       "      <td>2023-05-28</td>\n",
       "      <td>21</td>\n",
       "      <td>2023</td>\n",
       "      <td>BZX55559-12-3X</td>\n",
       "      <td>consumables</td>\n",
       "      <td>misc</td>\n",
       "      <td>195.10</td>\n",
       "      <td>108.17</td>\n",
       "      <td>46.43</td>\n",
       "      <td>20</td>\n",
       "      <td>1</td>\n",
       "    </tr>\n",
       "  </tbody>\n",
       "</table>\n",
       "</div>"
      ],
      "text/plain": [
       "       first      last                    job               phone  \\\n",
       "0     Donald   Harding           Immunologist  793-904-7725x39308   \n",
       "1    Tiffany     Myers        Music therapist    201.442.4543x942   \n",
       "2    Shannon    Watson           Immunologist   687.737.9424x8503   \n",
       "3     Nathan     Baker  Accounting technician    827-788-8123x012   \n",
       "4  Christina  Schwartz           Chiropractor        265-829-3643   \n",
       "\n",
       "                                 email  client_id  order_id  order_date  \\\n",
       "0     harding.donald.7185@sullivan.com      58515   8953482  2023-04-28   \n",
       "1    myers.t.6537@ferguson-johnson.net      37609   8069089  2023-05-19   \n",
       "2                swatson8146@payne.net      57113   1902144  2023-01-29   \n",
       "3               bakernathan@benson.com      46554   9031802  2023-04-25   \n",
       "4  christinaschwartz9252@mcconnell.com      92089   1322274  2023-05-28   \n",
       "\n",
       "   order_week  order_year         item_id     category         subcategory  \\\n",
       "0          17        2023  EUD29711-63-6U        decor            wall art   \n",
       "1          20        2023  XDA18116-89-4A  consumables                pens   \n",
       "2           4        2023  ABE59463-05-7E     software  project management   \n",
       "3          17        2023  ZMM00836-65-0C  consumables                pens   \n",
       "4          21        2023  BZX55559-12-3X  consumables                misc   \n",
       "\n",
       "   unit_price  unit_cost  unit_weight  qty  line_number  \n",
       "0     1096.80     762.71         7.50  105            1  \n",
       "1       24.95      15.09         1.49   21            0  \n",
       "2       13.52       7.86         1.68   39            6  \n",
       "3       36.42      24.85         1.23   29            3  \n",
       "4      195.10     108.17        46.43   20            1  "
      ]
     },
     "execution_count": 1,
     "metadata": {},
     "output_type": "execute_result"
    }
   ],
   "source": [
    "#This code was influenced by Ask BCS Tutor, ChatGPT, Xpert Learning Assistance, Pandas Documentation and 3Worlds Website.\n",
    "import pandas as pd\n",
    "\n",
    "df = pd.read_csv('Resources/client_dataset.csv')\n",
    "\n",
    "df.head()"
   ]
  },
  {
   "cell_type": "code",
   "execution_count": 2,
   "id": "71b9bbd2",
   "metadata": {},
   "outputs": [
    {
     "name": "stdout",
     "output_type": "stream",
     "text": [
      "Column Names:\n",
      "Index(['first', 'last', 'job', 'phone', 'email', 'client_id', 'order_id',\n",
      "       'order_date', 'order_week', 'order_year', 'item_id', 'category',\n",
      "       'subcategory', 'unit_price', 'unit_cost', 'unit_weight', 'qty',\n",
      "       'line_number'],\n",
      "      dtype='object')\n"
     ]
    }
   ],
   "source": [
    "# View the column names in the data\n",
    "print(\"Column Names:\")\n",
    "print(df.columns)\n"
   ]
  },
  {
   "cell_type": "code",
   "execution_count": 3,
   "id": "bc0f4172",
   "metadata": {},
   "outputs": [
    {
     "name": "stdout",
     "output_type": "stream",
     "text": [
      "\n",
      "Basic Statistics:\n",
      "          client_id      order_id    order_week    order_year    unit_price  \\\n",
      "count  54639.000000  5.463900e+04  54639.000000  54639.000000  54639.000000   \n",
      "mean   54837.869416  5.470190e+06     11.359139   2022.993064    136.267207   \n",
      "std    25487.438231  2.599807e+06      7.023499      0.082997    183.873135   \n",
      "min    10033.000000  1.000886e+06      1.000000   2022.000000      0.010000   \n",
      "25%    33593.000000  3.196372e+06      6.000000   2023.000000     20.800000   \n",
      "50%    53305.000000  5.496966e+06     11.000000   2023.000000     68.310000   \n",
      "75%    78498.000000  7.733869e+06     17.000000   2023.000000    173.160000   \n",
      "max    99984.000000  9.998480e+06     52.000000   2023.000000   1396.230000   \n",
      "\n",
      "          unit_cost   unit_weight           qty   line_number  \n",
      "count  54639.000000  54639.000000  5.463900e+04  54639.000000  \n",
      "mean      99.446073      5.004116  5.702646e+02      2.979667  \n",
      "std      133.164267      5.326599  1.879552e+04      2.436320  \n",
      "min        0.010000      0.000000  0.000000e+00      0.000000  \n",
      "25%       14.840000      1.450000  3.200000e+01      1.000000  \n",
      "50%       49.890000      3.240000  6.800000e+01      3.000000  \n",
      "75%      125.570000      6.890000  1.700000e+02      5.000000  \n",
      "max      846.270000     46.430000  3.958244e+06      9.000000  \n"
     ]
    }
   ],
   "source": [
    "# Use the describe function to gather some basic statistics\n",
    "print(\"\\nBasic Statistics:\")\n",
    "print(df.describe())\n"
   ]
  },
  {
   "cell_type": "code",
   "execution_count": 4,
   "id": "b24b53cc",
   "metadata": {},
   "outputs": [],
   "source": [
    "# Use this space to do any additional research\n",
    "# and familiarize yourself with the data.\n",
    "\n"
   ]
  },
  {
   "cell_type": "code",
   "execution_count": 5,
   "id": "551cb358",
   "metadata": {},
   "outputs": [
    {
     "name": "stdout",
     "output_type": "stream",
     "text": [
      "\n",
      "Top three item categories with the most entries:\n",
      "category\n",
      "consumables    23538\n",
      "furniture      11915\n",
      "software        8400\n",
      "Name: count, dtype: int64\n"
     ]
    }
   ],
   "source": [
    "# What three item categories had the most entries?\n",
    "top_categories = df['category'].value_counts().head(3)\n",
    "print(\"\\nTop three item categories with the most entries:\")\n",
    "print(top_categories)\n"
   ]
  },
  {
   "cell_type": "code",
   "execution_count": 6,
   "id": "5f54e2cf",
   "metadata": {},
   "outputs": [
    {
     "name": "stdout",
     "output_type": "stream",
     "text": [
      "\n",
      "Subcategory with the most entries in the category 'consumables': bathroom supplies\n"
     ]
    }
   ],
   "source": [
    "# For the category with the most entries,\n",
    "# which subcategory had the most entries?\n",
    "category_with_most_entries = top_categories.index[0]\n",
    "subcategory_most_entries = df[df['category'] == category_with_most_entries]['subcategory'].value_counts().idxmax()\n",
    "print(f\"\\nSubcategory with the most entries in the category '{category_with_most_entries}': {subcategory_most_entries}\")\n"
   ]
  },
  {
   "cell_type": "code",
   "execution_count": 7,
   "id": "2db94379",
   "metadata": {},
   "outputs": [
    {
     "name": "stdout",
     "output_type": "stream",
     "text": [
      "\n",
      "Top five clients with the most entries:\n",
      "client_id\n",
      "33615    220\n",
      "66037    211\n",
      "46820    209\n",
      "38378    207\n",
      "24741    207\n",
      "Name: count, dtype: int64\n"
     ]
    }
   ],
   "source": [
    "# Which five clients had the most entries in the data?\n",
    "top_clients = df['client_id'].value_counts().head(5)\n",
    "print(\"\\nTop five clients with the most entries:\")\n",
    "print(top_clients)\n"
   ]
  },
  {
   "cell_type": "code",
   "execution_count": 8,
   "id": "a6635601",
   "metadata": {},
   "outputs": [
    {
     "name": "stdout",
     "output_type": "stream",
     "text": [
      "\n",
      "Top 5 clients' IDs: [33615, 66037, 46820, 38378, 24741]\n"
     ]
    }
   ],
   "source": [
    "# Store the client ids of those top 5 clients in a list.\n",
    "top_clients_ids = top_clients.index.tolist()\n",
    "print(f\"\\nTop 5 clients' IDs: {top_clients_ids}\")\n",
    "\n"
   ]
  },
  {
   "cell_type": "code",
   "execution_count": 9,
   "id": "c88b8a3e",
   "metadata": {},
   "outputs": [
    {
     "name": "stdout",
     "output_type": "stream",
     "text": [
      "\n",
      "Total units ordered by the client with the most entries (client_id=33615): 64313\n"
     ]
    }
   ],
   "source": [
    "# How many total units (the qty column) did the\n",
    "# client with the most entries order order?\n",
    "client_with_most_entries = top_clients.index[0]\n",
    "total_units_ordered = df[df['client_id'] == client_with_most_entries]['qty'].sum()\n",
    "print(f\"\\nTotal units ordered by the client with the most entries (client_id={client_with_most_entries}): {total_units_ordered}\")\n",
    "\n"
   ]
  },
  {
   "cell_type": "markdown",
   "id": "257fcd7d",
   "metadata": {},
   "source": [
    "## Part 2: Transform the Data\n",
    "Do we know that this client spent the more money than client 66037? If not, how would we find out? Transform the data using the steps below to prepare it for analysis."
   ]
  },
  {
   "cell_type": "code",
   "execution_count": 18,
   "metadata": {},
   "outputs": [],
   "source": [
    "#DataFrame Data for Unit_Price and Qty\n",
    " "
   ]
  },
  {
   "cell_type": "code",
   "execution_count": 19,
   "id": "0c25c4a8",
   "metadata": {},
   "outputs": [
    {
     "name": "stdout",
     "output_type": "stream",
     "text": [
      "       unit_price   qty   subtotal\n",
      "0         1096.80   105  115164.00\n",
      "1           24.95    21     523.95\n",
      "2           13.52    39     527.28\n",
      "3           36.42    29    1056.18\n",
      "4          195.10    20    3902.00\n",
      "...           ...   ...        ...\n",
      "54634       83.13    33    2743.29\n",
      "54635      206.59    47    9709.73\n",
      "54636       65.66   475   31188.50\n",
      "54637        1.48   112     165.76\n",
      "54638        3.01  1031    3103.31\n",
      "\n",
      "[54639 rows x 3 columns]\n"
     ]
    }
   ],
   "source": [
    "# Create a column that calculates the \n",
    "# subtotal for each line using the unit_price\n",
    "# and the qty\n",
    "df['subtotal'] = df['unit_price'] * df['qty']\n",
    "print(df[['unit_price', 'qty', 'subtotal']])\n",
    "\n",
    "\n"
   ]
  },
  {
   "cell_type": "code",
   "execution_count": 42,
   "id": "ac9dafc8",
   "metadata": {},
   "outputs": [
    {
     "name": "stdout",
     "output_type": "stream",
     "text": [
      "       total_weight   qty  shipping_price\n",
      "0            787.50   105         5512.50\n",
      "1             31.29    21          312.90\n",
      "2             65.52    39          458.64\n",
      "3             35.67    29          356.70\n",
      "4            928.60    20         6500.20\n",
      "...             ...   ...             ...\n",
      "54634         74.25    33          519.75\n",
      "54635        549.90    47         3849.30\n",
      "54636       1976.00   475        13832.00\n",
      "54637       2020.48   112        14143.36\n",
      "54638       2134.17  1031        14939.19\n",
      "\n",
      "[54639 rows x 3 columns]\n"
     ]
    }
   ],
   "source": [
    "# Create a column for shipping price.\n",
    "# Assume a shipping price of $7 per pound\n",
    "# for orders over 50 pounds and $10 per\n",
    "# pound for items 50 pounds or under.\n",
    "import numpy as np \n",
    "df [\"total_weight\"] = df['unit_weight'] * df['qty']  \n",
    "shipping_price = np.where(df['total_weight'] > 50, df['total_weight'] * 7, df['total_weight'] * 10) \n",
    "df['shipping_price'] = shipping_price\n",
    "print(df[['total_weight','qty', 'shipping_price']])\n",
    "\n",
    "\n"
   ]
  },
  {
   "cell_type": "code",
   "execution_count": 43,
   "id": "77f42c67",
   "metadata": {},
   "outputs": [
    {
     "name": "stdout",
     "output_type": "stream",
     "text": [
      "        subtotal  shipping_price  total_price\n",
      "0      115164.00         5512.50    131839.08\n",
      "1         523.95          312.90       914.26\n",
      "2         527.28          458.64      1077.12\n",
      "3        1056.18          356.70      1543.57\n",
      "4        3902.00         6500.20     11364.40\n",
      "...          ...             ...          ...\n",
      "54634    2743.29          519.75      3564.87\n",
      "54635    9709.73         3849.30     14813.24\n",
      "54636   31188.50        13832.00     49184.90\n",
      "54637     165.76        14143.36     15632.71\n",
      "54638    3103.31        14939.19     19711.43\n",
      "\n",
      "[54639 rows x 3 columns]\n"
     ]
    }
   ],
   "source": [
    "# Create a column for the total price\n",
    "# using the subtotal and the shipping price\n",
    "# along with a sales tax of 9.25%\n",
    "sales_tax_rate = 0.0925\n",
    "df['total_price'] = round((df['subtotal'] + df['shipping_price']) * (1 + sales_tax_rate), 2)   \n",
    "print(df[['subtotal', 'shipping_price', 'total_price']])\n",
    "\n"
   ]
  },
  {
   "cell_type": "code",
   "execution_count": 44,
   "id": "c82ad275",
   "metadata": {},
   "outputs": [
    {
     "name": "stdout",
     "output_type": "stream",
     "text": [
      "       unit_cost   qty  shipping_price  line_cost\n",
      "0         762.71   105         5512.50   85597.05\n",
      "1          15.09    21          312.90     629.79\n",
      "2           7.86    39          458.64     765.18\n",
      "3          24.85    29          356.70    1077.35\n",
      "4         108.17    20         6500.20    8663.60\n",
      "...          ...   ...             ...        ...\n",
      "54634      51.60    33          519.75    2222.55\n",
      "54635     175.46    47         3849.30   12095.92\n",
      "54636      57.31   475        13832.00   41054.25\n",
      "54637       1.22   112        14143.36   14280.00\n",
      "54638       1.61  1031        14939.19   16599.10\n",
      "\n",
      "[54639 rows x 4 columns]\n"
     ]
    }
   ],
   "source": [
    "# Create a column for the cost\n",
    "# of each line using unit cost, qty, and\n",
    "# shipping price (assume the shipping cost\n",
    "# is exactly what is charged to the client).\n",
    "df['line_cost'] = df['unit_cost'] * df['qty'] + df['shipping_price']\n",
    "print(df[['unit_cost', 'qty', 'shipping_price', 'line_cost']])\n",
    "\n"
   ]
  },
  {
   "cell_type": "code",
   "execution_count": 45,
   "id": "e2389018",
   "metadata": {},
   "outputs": [
    {
     "name": "stdout",
     "output_type": "stream",
     "text": [
      "       line_cost  total_price    profit\n",
      "0       85597.05    131839.08  46242.03\n",
      "1         629.79       914.26    284.47\n",
      "2         765.18      1077.12    311.94\n",
      "3        1077.35      1543.57    466.22\n",
      "4        8663.60     11364.40   2700.80\n",
      "...          ...          ...       ...\n",
      "54634    2222.55      3564.87   1342.32\n",
      "54635   12095.92     14813.24   2717.32\n",
      "54636   41054.25     49184.90   8130.65\n",
      "54637   14280.00     15632.71   1352.71\n",
      "54638   16599.10     19711.43   3112.33\n",
      "\n",
      "[54639 rows x 3 columns]\n"
     ]
    }
   ],
   "source": [
    "# Create a column for the profit of\n",
    "# each line using line cost and line price\n",
    "df['profit'] = df['total_price'] - df['line_cost']\n",
    "print(df[['line_cost', 'total_price', 'profit']])\n"
   ]
  },
  {
   "cell_type": "markdown",
   "id": "ef6f62b1",
   "metadata": {},
   "source": [
    "## Part 3: Confirm your work\n",
    "You have email receipts showing that the total prices for 3 orders. Confirm that your calculations match the receipts. Remember, each order has multiple lines.\n",
    "\n",
    "Order ID 2742071 had a total price of \\$152,811.89\n",
    "\n",
    "Order ID 2173913 had a total price of \\$162,388.71\n",
    "\n",
    "Order ID 6128929 had a total price of \\$923,441.25\n"
   ]
  },
  {
   "cell_type": "code",
   "execution_count": 46,
   "id": "c0e5d68e",
   "metadata": {},
   "outputs": [
    {
     "name": "stdout",
     "output_type": "stream",
     "text": [
      "Order ID 2742071:\n",
      "  Calculated Total: 152811.88999999998\n",
      "  Provided Total:   152811.89\n",
      "  Match:            False\n",
      "\n",
      "Order ID 2173913:\n",
      "  Calculated Total: 162388.71\n",
      "  Provided Total:   162388.71\n",
      "  Match:            True\n",
      "\n",
      "Order ID 6128929:\n",
      "  Calculated Total: 923441.25\n",
      "  Provided Total:   923441.25\n",
      "  Match:            True\n",
      "\n"
     ]
    }
   ],
   "source": [
    "# Check your work using the totals above\n",
    "\n",
    "# Sum the 'total_price' for each order\n",
    "order_totals = df.groupby('order_id')['total_price'].sum()\n",
    "\n",
    "# Provided total prices for comparison\n",
    "provided_totals = {\n",
    "    2742071: 152811.89,\n",
    "    2173913: 162388.71,\n",
    "    6128929: 923441.25\n",
    "}\n",
    "\n",
    "# Compare the calculated totals with the provided totals\n",
    "for order_id, provided_total in provided_totals.items():\n",
    "    calculated_total = order_totals.loc[order_id]\n",
    "    \n",
    "    if provided_total is not None:\n",
    "        print(f\"Order ID {order_id}:\")\n",
    "        print(f\"  Calculated Total: {calculated_total}\")\n",
    "        print(f\"  Provided Total:   {provided_total}\")\n",
    "        print(f\"  Match:            {calculated_total == provided_total}\")\n",
    "        print()\n",
    "\n"
   ]
  },
  {
   "cell_type": "markdown",
   "id": "b94d58ab",
   "metadata": {},
   "source": [
    "## Part 4: Summarize and Analyze\n",
    "Use the new columns with confirmed values to find the following information."
   ]
  },
  {
   "cell_type": "code",
   "execution_count": 47,
   "id": "7c005f34",
   "metadata": {},
   "outputs": [
    {
     "name": "stdout",
     "output_type": "stream",
     "text": [
      "Top Clients by Quantity:\n",
      "Index([33615, 66037, 46820, 38378, 24741], dtype='int64', name='client_id')\n",
      "\n",
      "Total Spending for Top Clients:\n",
      "client_id\n",
      "24741    82268892.02\n",
      "33615     8377308.52\n",
      "38378    12906550.87\n",
      "46820     9743794.36\n",
      "66037    10259514.79\n",
      "Name: total_price, dtype: float64\n"
     ]
    }
   ],
   "source": [
    "# How much did each of the top 5 clients by quantity\n",
    "# spend? Check your work from Part 1 for client ids.\n",
    "\n",
    "# Identify the top clients by quantity\n",
    "top_clients_by_quantity = df['client_id'].value_counts().nlargest(5).index\n",
    "\n",
    "# Filter the DataFrame for the top clients\n",
    "top_clients_df = df[df['client_id'].isin(top_clients_by_quantity)]\n",
    "\n",
    "# Calculate the total spending for each of the top clients\n",
    "top_clients_spending = top_clients_df.groupby('client_id')['total_price'].sum()\n",
    "\n",
    "# Display the top clients by quantity\n",
    "print(\"Top Clients by Quantity:\")\n",
    "print(top_clients_by_quantity)\n",
    "\n",
    "# Display the total spending for each of the top clients\n",
    "print(\"\\nTotal Spending for Top Clients:\")\n",
    "print(top_clients_spending)\n",
    "\n",
    "\n"
   ]
  },
  {
   "cell_type": "code",
   "execution_count": 50,
   "id": "81b6e4d2",
   "metadata": {},
   "outputs": [
    {
     "name": "stdout",
     "output_type": "stream",
     "text": [
      "           Total Units Purchased  Total Shipping Price  Total Revenue  \\\n",
      "client_id                                                               \n",
      "78965                    4033302            5340756.88   6.559237e+08   \n",
      "85931                     644423           10122549.19   2.374170e+08   \n",
      "38473                     402770            4391003.73   1.835526e+08   \n",
      "86721                    1010426           64335727.72   1.812663e+08   \n",
      "24741                     239862            5126448.37   8.226889e+07   \n",
      "\n",
      "           Total Profit  \n",
      "client_id                \n",
      "78965      2.473528e+08  \n",
      "85931      1.092941e+08  \n",
      "38473      4.335173e+07  \n",
      "86721      4.297470e+07  \n",
      "24741      3.657999e+07  \n"
     ]
    }
   ],
   "source": [
    "# Create a summary DataFrame showing the totals for the\n",
    "# for the top 5 clients with the following information:\n",
    "# total units purchased, total shipping price,\n",
    "# total revenue, and total profit. Sort by total profit.\n",
    "\n",
    "# Identify the top clients by profit\n",
    "top_clients_by_profit = df.groupby('client_id')['profit'].sum().nlargest(5).index\n",
    "\n",
    "# Filter the DataFrame for the top clients\n",
    "top_clients_df = df[df['client_id'].isin(top_clients_by_profit)]\n",
    "\n",
    "# Create a summary DataFrame\n",
    "summary_df = pd.DataFrame({\n",
    "    'Total Units Purchased': top_clients_df.groupby('client_id')['qty'].sum(),\n",
    "    'Total Shipping Price': top_clients_df.groupby('client_id')['shipping_price'].sum(),\n",
    "    'Total Revenue': top_clients_df.groupby('client_id')['total_price'].sum(),\n",
    "    'Total Profit': top_clients_df.groupby('client_id')['profit'].sum()\n",
    "})\n",
    "\n",
    "# Sort the summary DataFrame by total profit\n",
    "summary_df = summary_df.sort_values(by='Total Profit', ascending=False)\n",
    "\n",
    "# Display the summary DataFrame\n",
    "print(summary_df)\n",
    "\n",
    "\n",
    "\n"
   ]
  },
  {
   "cell_type": "code",
   "execution_count": 51,
   "id": "7be02867",
   "metadata": {},
   "outputs": [
    {
     "name": "stdout",
     "output_type": "stream",
     "text": [
      "           Total Units Purchased (Millions)  Total Shipping Price (Millions)  \\\n",
      "client_id                                                                      \n",
      "78965                              4.033302                         5.340757   \n",
      "85931                              0.644423                        10.122549   \n",
      "38473                              0.402770                         4.391004   \n",
      "86721                              1.010426                        64.335728   \n",
      "24741                              0.239862                         5.126448   \n",
      "\n",
      "           Total Revenue (Millions)  Total Profit (Millions)  \n",
      "client_id                                                     \n",
      "78965                    655.923670               247.352842  \n",
      "85931                    237.417001               109.294129  \n",
      "38473                    183.552572                43.351727  \n",
      "86721                    181.266297                42.974695  \n",
      "24741                     82.268892                36.579992  \n"
     ]
    }
   ],
   "source": [
    "# Format the data and rename the columns\n",
    "# to names suitable for presentation.\n",
    "# Currency should be in millions of dollars.\n",
    "\n",
    "# Identify the top clients by profit\n",
    "top_clients_by_profit = df.groupby('client_id')['profit'].sum().nlargest(5).index\n",
    "\n",
    "# Filter the DataFrame for the top clients\n",
    "top_clients_df = df[df['client_id'].isin(top_clients_by_profit)]\n",
    "\n",
    "# Create a summary DataFrame in millions of dollars\n",
    "summary_df = pd.DataFrame({\n",
    "    'Total Units Purchased (Millions)': top_clients_df.groupby('client_id')['qty'].sum() / 1_000_000,\n",
    "    'Total Shipping Price (Millions)': top_clients_df.groupby('client_id')['shipping_price'].sum() / 1_000_000,\n",
    "    'Total Revenue (Millions)': top_clients_df.groupby('client_id')['total_price'].sum() / 1_000_000,\n",
    "    'Total Profit (Millions)': top_clients_df.groupby('client_id')['profit'].sum() / 1_000_000\n",
    "})\n",
    "\n",
    "# Sort the summary DataFrame by total profit\n",
    "summary_df = summary_df.sort_values(by='Total Profit (Millions)', ascending=False)\n",
    "\n",
    "# Display the summary DataFrame\n",
    "print(summary_df)\n",
    "\n"
   ]
  },
  {
   "cell_type": "code",
   "execution_count": null,
   "id": "8ead0986",
   "metadata": {},
   "outputs": [
    {
     "data": {
      "text/html": [
       "<div>\n",
       "<style scoped>\n",
       "    .dataframe tbody tr th:only-of-type {\n",
       "        vertical-align: middle;\n",
       "    }\n",
       "\n",
       "    .dataframe tbody tr th {\n",
       "        vertical-align: top;\n",
       "    }\n",
       "\n",
       "    .dataframe thead th {\n",
       "        text-align: right;\n",
       "    }\n",
       "</style>\n",
       "<table border=\"1\" class=\"dataframe\">\n",
       "  <thead>\n",
       "    <tr style=\"text-align: right;\">\n",
       "      <th></th>\n",
       "      <th>Client ID</th>\n",
       "      <th>Units</th>\n",
       "      <th>Shipping</th>\n",
       "      <th>Total Revenue</th>\n",
       "      <th>Total Cost</th>\n",
       "      <th>Total Profit</th>\n",
       "    </tr>\n",
       "  </thead>\n",
       "  <tbody>\n",
       "    <tr>\n",
       "      <th>4</th>\n",
       "      <td>24741</td>\n",
       "      <td>239862</td>\n",
       "      <td>$5.13M</td>\n",
       "      <td>$82.27M</td>\n",
       "      <td>$45.69M</td>\n",
       "      <td>$36.58M</td>\n",
       "    </tr>\n",
       "    <tr>\n",
       "      <th>3</th>\n",
       "      <td>38378</td>\n",
       "      <td>73667</td>\n",
       "      <td>$3.43M</td>\n",
       "      <td>$12.91M</td>\n",
       "      <td>$9.63M</td>\n",
       "      <td>$3.27M</td>\n",
       "    </tr>\n",
       "    <tr>\n",
       "      <th>1</th>\n",
       "      <td>66037</td>\n",
       "      <td>43018</td>\n",
       "      <td>$1.40M</td>\n",
       "      <td>$10.26M</td>\n",
       "      <td>$7.00M</td>\n",
       "      <td>$3.26M</td>\n",
       "    </tr>\n",
       "    <tr>\n",
       "      <th>2</th>\n",
       "      <td>46820</td>\n",
       "      <td>75768</td>\n",
       "      <td>$1.60M</td>\n",
       "      <td>$9.74M</td>\n",
       "      <td>$7.01M</td>\n",
       "      <td>$2.74M</td>\n",
       "    </tr>\n",
       "    <tr>\n",
       "      <th>0</th>\n",
       "      <td>33615</td>\n",
       "      <td>64313</td>\n",
       "      <td>$1.83M</td>\n",
       "      <td>$8.38M</td>\n",
       "      <td>$6.18M</td>\n",
       "      <td>$2.20M</td>\n",
       "    </tr>\n",
       "  </tbody>\n",
       "</table>\n",
       "</div>"
      ],
      "text/plain": [
       "   Client ID   Units Shipping Total Revenue Total Cost Total Profit\n",
       "4      24741  239862   $5.13M       $82.27M    $45.69M      $36.58M\n",
       "3      38378   73667   $3.43M       $12.91M     $9.63M       $3.27M\n",
       "1      66037   43018   $1.40M       $10.26M     $7.00M       $3.26M\n",
       "2      46820   75768   $1.60M        $9.74M     $7.01M       $2.74M\n",
       "0      33615   64313   $1.83M        $8.38M     $6.18M       $2.20M"
      ]
     },
     "execution_count": 19,
     "metadata": {},
     "output_type": "execute_result"
    }
   ],
   "source": [
    "# Sort the updated data by \"Total Profit\" form highest to lowest\n",
    "# Done in previous cell\n"
   ]
  },
  {
   "cell_type": "code",
   "execution_count": 52,
   "id": "6589d63c",
   "metadata": {},
   "outputs": [
    {
     "name": "stdout",
     "output_type": "stream",
     "text": [
      "           Total Units Purchased (Millions)  Total Shipping Price (Millions)  \\\n",
      "client_id                                                                      \n",
      "78965                              4.033302                         5.340757   \n",
      "85931                              0.644423                        10.122549   \n",
      "38473                              0.402770                         4.391004   \n",
      "86721                              1.010426                        64.335728   \n",
      "24741                              0.239862                         5.126448   \n",
      "\n",
      "           Total Revenue (Millions)  Total Profit (Millions)  \n",
      "client_id                                                     \n",
      "78965                    655.923670               247.352842  \n",
      "85931                    237.417001               109.294129  \n",
      "38473                    183.552572                43.351727  \n",
      "86721                    181.266297                42.974695  \n",
      "24741                     82.268892                36.579992  \n"
     ]
    }
   ],
   "source": [
    "# Identify the top clients by profit\n",
    "top_clients_by_profit = df.groupby('client_id')['profit'].sum().nlargest(5).index\n",
    "\n",
    "# Filter the DataFrame for the top clients\n",
    "top_clients_df = df[df['client_id'].isin(top_clients_by_profit)]\n",
    "\n",
    "# Create a summary DataFrame in millions of dollars\n",
    "summary_df = pd.DataFrame({\n",
    "    'Total Units Purchased (Millions)': top_clients_df.groupby('client_id')['qty'].sum() / 1_000_000,\n",
    "    'Total Shipping Price (Millions)': top_clients_df.groupby('client_id')['shipping_price'].sum() / 1_000_000,\n",
    "    'Total Revenue (Millions)': top_clients_df.groupby('client_id')['total_price'].sum() / 1_000_000,\n",
    "    'Total Profit (Millions)': top_clients_df.groupby('client_id')['profit'].sum() / 1_000_000\n",
    "})\n",
    "\n",
    "# Sort the summary DataFrame by total profit from highest to lowest\n",
    "summary_df = summary_df.sort_values(by='Total Profit (Millions)', ascending=False)\n",
    "\n",
    "# Display the sorted summary DataFrame\n",
    "print(summary_df)\n"
   ]
  }
 ],
 "metadata": {
  "kernelspec": {
   "display_name": "Python 3 (ipykernel)",
   "language": "python",
   "name": "python3"
  },
  "language_info": {
   "codemirror_mode": {
    "name": "ipython",
    "version": 3
   },
   "file_extension": ".py",
   "mimetype": "text/x-python",
   "name": "python",
   "nbconvert_exporter": "python",
   "pygments_lexer": "ipython3",
   "version": "3.10.13"
  }
 },
 "nbformat": 4,
 "nbformat_minor": 5
}
